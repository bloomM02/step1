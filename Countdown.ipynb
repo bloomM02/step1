{
  "nbformat": 4,
  "nbformat_minor": 0,
  "metadata": {
    "colab": {
      "name": "Countdown.ipynb",
      "provenance": []
    },
    "kernelspec": {
      "name": "python3",
      "display_name": "Python 3"
    },
    "language_info": {
      "name": "python"
    }
  },
  "cells": [
    {
      "cell_type": "code",
      "metadata": {
        "colab": {
          "base_uri": "https://localhost:8080/"
        },
        "id": "qadAfi3zqMhZ",
        "outputId": "0307078f-c7a3-4201-ef93-700ad422c805"
      },
      "source": [
        "import time\n",
        "t=int(input(\"entrez la durée du countdown en secondes: \"))\n",
        "def countdown(t):\n",
        "  while t!=0:\n",
        "        mins, secs = divmod(t, 60)\n",
        "        timer = '{:02d}:{:02d}'.format(mins, secs)\n",
        "        print(timer, end=\"\\r\")\n",
        "        time.sleep(1)\n",
        "        t -= 1\n",
        "  print('Fire in the hole!!')\n",
        "countdown(int(t))\n",
        "  \n"
      ],
      "execution_count": 7,
      "outputs": [
        {
          "output_type": "stream",
          "text": [
            "entrez un nombre5\n",
            "Fire in the hole!!\n"
          ],
          "name": "stdout"
        }
      ]
    }
  ]
}